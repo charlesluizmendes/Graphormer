{
 "cells": [
  {
   "cell_type": "markdown",
   "id": "fdb49664",
   "metadata": {},
   "source": [
    "## Dependências"
   ]
  },
  {
   "cell_type": "code",
   "execution_count": 8,
   "id": "b8a495eb",
   "metadata": {},
   "outputs": [],
   "source": [
    "import torch\n",
    "from transformers import GraphormerForGraphClassification\n",
    "from transformers.models.graphormer.collating_graphormer import GraphormerDataCollator"
   ]
  },
  {
   "cell_type": "markdown",
   "id": "a9137d67",
   "metadata": {},
   "source": [
    "## Modelo"
   ]
  },
  {
   "cell_type": "code",
   "execution_count": 9,
   "id": "ba3e80d2",
   "metadata": {},
   "outputs": [
    {
     "data": {
      "text/plain": [
       "GraphormerForGraphClassification(\n",
       "  (encoder): GraphormerModel(\n",
       "    (graph_encoder): GraphormerGraphEncoder(\n",
       "      (dropout_module): Dropout(p=0.0, inplace=False)\n",
       "      (graph_node_feature): GraphormerGraphNodeFeature(\n",
       "        (atom_encoder): Embedding(4609, 768, padding_idx=0)\n",
       "        (in_degree_encoder): Embedding(512, 768, padding_idx=0)\n",
       "        (out_degree_encoder): Embedding(512, 768, padding_idx=0)\n",
       "        (graph_token): Embedding(1, 768)\n",
       "      )\n",
       "      (graph_attn_bias): GraphormerGraphAttnBias(\n",
       "        (edge_encoder): Embedding(1025, 32, padding_idx=0)\n",
       "        (edge_dis_encoder): Embedding(131072, 1)\n",
       "        (spatial_pos_encoder): Embedding(512, 32, padding_idx=0)\n",
       "        (graph_token_virtual_distance): Embedding(1, 32)\n",
       "      )\n",
       "      (emb_layer_norm): LayerNorm((768,), eps=1e-05, elementwise_affine=True)\n",
       "      (layers): ModuleList(\n",
       "        (0-11): 12 x GraphormerGraphEncoderLayer(\n",
       "          (dropout_module): Dropout(p=0.0, inplace=False)\n",
       "          (activation_dropout_module): Dropout(p=0.1, inplace=False)\n",
       "          (activation_fn): GELUActivation()\n",
       "          (self_attn): GraphormerMultiheadAttention(\n",
       "            (attention_dropout_module): Dropout(p=0.1, inplace=False)\n",
       "            (k_proj): Linear(in_features=768, out_features=768, bias=True)\n",
       "            (v_proj): Linear(in_features=768, out_features=768, bias=True)\n",
       "            (q_proj): Linear(in_features=768, out_features=768, bias=True)\n",
       "            (out_proj): Linear(in_features=768, out_features=768, bias=True)\n",
       "          )\n",
       "          (self_attn_layer_norm): LayerNorm((768,), eps=1e-05, elementwise_affine=True)\n",
       "          (fc1): Linear(in_features=768, out_features=768, bias=True)\n",
       "          (fc2): Linear(in_features=768, out_features=768, bias=True)\n",
       "          (final_layer_norm): LayerNorm((768,), eps=1e-05, elementwise_affine=True)\n",
       "        )\n",
       "      )\n",
       "    )\n",
       "    (lm_head_transform_weight): Linear(in_features=768, out_features=768, bias=True)\n",
       "    (activation_fn): GELUActivation()\n",
       "    (layer_norm): LayerNorm((768,), eps=1e-05, elementwise_affine=True)\n",
       "  )\n",
       "  (classifier): GraphormerDecoderHead(\n",
       "    (classifier): Linear(in_features=768, out_features=2, bias=False)\n",
       "  )\n",
       ")"
      ]
     },
     "execution_count": 9,
     "metadata": {},
     "output_type": "execute_result"
    }
   ],
   "source": [
    "model = GraphormerForGraphClassification.from_pretrained(\"../model\")\n",
    "model.eval()"
   ]
  },
  {
   "cell_type": "markdown",
   "id": "8223fe73",
   "metadata": {},
   "source": [
    "## Input"
   ]
  },
  {
   "cell_type": "code",
   "execution_count": 10,
   "id": "c98593de",
   "metadata": {},
   "outputs": [],
   "source": [
    "sample = {\n",
    "    \"num_nodes\": 8,\n",
    "    \"edge_index\": [[0,1,1,2,2,3],[1,0,2,1,3,2]],\n",
    "    \"edge_attr\": [12, 12, 45, 45, 87, 87],\n",
    "    \"current_node\": 2,\n",
    "    \"target_node\": 7,\n",
    "    \"candidate_node\": 3,\n",
    "    \"labels\": [0]\n",
    "}"
   ]
  },
  {
   "cell_type": "markdown",
   "id": "2a6811a8",
   "metadata": {},
   "source": [
    "## Collator"
   ]
  },
  {
   "cell_type": "code",
   "execution_count": 11,
   "id": "ba14cca2",
   "metadata": {},
   "outputs": [],
   "source": [
    "collator = GraphormerDataCollator(on_the_fly_processing=True)\n",
    "batch = collator([sample])"
   ]
  },
  {
   "cell_type": "code",
   "execution_count": 12,
   "id": "00cdfcec",
   "metadata": {},
   "outputs": [],
   "source": [
    "with torch.no_grad():\n",
    "    outputs = model(**batch)\n",
    "    logits = outputs.logits\n",
    "    probs = torch.softmax(logits, dim=-1).cpu().numpy()"
   ]
  },
  {
   "cell_type": "markdown",
   "id": "597bb39a",
   "metadata": {},
   "source": [
    "## Output"
   ]
  },
  {
   "cell_type": "code",
   "execution_count": null,
   "id": "e599f570",
   "metadata": {},
   "outputs": [
    {
     "name": "stdout",
     "output_type": "stream",
     "text": [
      "Probabilidades: [0.72124785 0.27875215]\n",
      "Não seja o candidato: 0.72124785\n",
      "Seja o canditado: 0.27875215\n"
     ]
    }
   ],
   "source": [
    "print(\"Probabilidades:\", probs[0])\n",
    "print(\"Não seja o candidato:\", probs[0][0]) # ex: [0.72] → 72% de chances de que esse não seja candidato o próximo salto.\n",
    "print(\"Seja o canditado:\", probs[0][1]) # ex: [0.27] → 27% de chances de que esse seja candidato o próximo salto."
   ]
  }
 ],
 "metadata": {
  "kernelspec": {
   "display_name": "venv (3.12.4)",
   "language": "python",
   "name": "python3"
  },
  "language_info": {
   "codemirror_mode": {
    "name": "ipython",
    "version": 3
   },
   "file_extension": ".py",
   "mimetype": "text/x-python",
   "name": "python",
   "nbconvert_exporter": "python",
   "pygments_lexer": "ipython3",
   "version": "3.12.4"
  }
 },
 "nbformat": 4,
 "nbformat_minor": 5
}
