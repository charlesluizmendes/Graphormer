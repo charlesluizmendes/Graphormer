{
 "cells": [
  {
   "cell_type": "markdown",
   "id": "fdb49664",
   "metadata": {},
   "source": [
    "## Dependências"
   ]
  },
  {
   "cell_type": "code",
   "execution_count": null,
   "id": "b8a495eb",
   "metadata": {},
   "outputs": [],
   "source": [
    "import torch\n",
    "from transformers import GraphormerForGraphClassification\n",
    "from transformers.models.graphormer.collating_graphormer import GraphormerDataCollator"
   ]
  },
  {
   "cell_type": "markdown",
   "id": "a9137d67",
   "metadata": {},
   "source": [
    "## Modelo"
   ]
  },
  {
   "cell_type": "code",
   "execution_count": null,
   "id": "ba3e80d2",
   "metadata": {},
   "outputs": [],
   "source": [
    "model = GraphormerForGraphClassification.from_pretrained(\"../model\")\n",
    "model.eval()"
   ]
  },
  {
   "cell_type": "markdown",
   "id": "8223fe73",
   "metadata": {},
   "source": [
    "## Input"
   ]
  },
  {
   "cell_type": "code",
   "execution_count": null,
   "id": "c98593de",
   "metadata": {},
   "outputs": [],
   "source": [
    "sample = {\n",
    "    \"num_nodes\": 8,\n",
    "    \"edge_index\": [[0,1,1,2,2,3],[1,0,2,1,3,2]],\n",
    "    \"edge_attr\": [12, 12, 45, 45, 87, 87],\n",
    "    \"current_node\": 2,\n",
    "    \"target_node\": 7,\n",
    "    \"candidate_node\": 3,\n",
    "    \"labels\": [0]\n",
    "}"
   ]
  },
  {
   "cell_type": "markdown",
   "id": "2a6811a8",
   "metadata": {},
   "source": [
    "## Collator"
   ]
  },
  {
   "cell_type": "code",
   "execution_count": null,
   "id": "ba14cca2",
   "metadata": {},
   "outputs": [],
   "source": [
    "collator = GraphormerDataCollator(on_the_fly_processing=True)\n",
    "batch = collator([sample])"
   ]
  },
  {
   "cell_type": "code",
   "execution_count": null,
   "id": "00cdfcec",
   "metadata": {},
   "outputs": [],
   "source": [
    "with torch.no_grad():\n",
    "    outputs = model(**batch)\n",
    "    logits = outputs.logits\n",
    "    probs = torch.softmax(logits, dim=-1).cpu().numpy()"
   ]
  },
  {
   "cell_type": "markdown",
   "id": "597bb39a",
   "metadata": {},
   "source": [
    "## Output"
   ]
  },
  {
   "cell_type": "code",
   "execution_count": null,
   "id": "e599f570",
   "metadata": {},
   "outputs": [],
   "source": [
    "print(\"Probabilidades:\", probs[0])\n",
    "print(\"Não seja o candidato:\", probs[0][0]) # ex: [0.72] → 72% de chances de que esse não seja candidato o próximo salto.\n",
    "print(\"Seja o canditado:\", probs[0][1]) # ex: [0.27] → 27% de chances de que esse seja candidato o próximo salto."
   ]
  }
 ],
 "metadata": {
  "kernelspec": {
   "display_name": "venv (3.12.4)",
   "language": "python",
   "name": "python3"
  },
  "language_info": {
   "codemirror_mode": {
    "name": "ipython",
    "version": 3
   },
   "file_extension": ".py",
   "mimetype": "text/x-python",
   "name": "python",
   "nbconvert_exporter": "python",
   "pygments_lexer": "ipython3",
   "version": "3.12.4"
  }
 },
 "nbformat": 4,
 "nbformat_minor": 5
}
