{
 "cells": [
  {
   "cell_type": "markdown",
   "id": "f02b69e7",
   "metadata": {},
   "source": [
    "## Dependências"
   ]
  },
  {
   "cell_type": "code",
   "execution_count": 1,
   "id": "4344b4b6",
   "metadata": {},
   "outputs": [
    {
     "name": "stderr",
     "output_type": "stream",
     "text": [
      "d:\\Visual Code\\Graphormer\\venv\\Lib\\site-packages\\tqdm\\auto.py:21: TqdmWarning: IProgress not found. Please update jupyter and ipywidgets. See https://ipywidgets.readthedocs.io/en/stable/user_install.html\n",
      "  from .autonotebook import tqdm as notebook_tqdm\n"
     ]
    }
   ],
   "source": [
    "import os\n",
    "import evaluate\n",
    "import torch\n",
    "import networkx as nx\n",
    "import matplotlib.pyplot as plt\n",
    "from dotenv import load_dotenv\n",
    "from datasets import load_dataset, DatasetDict\n",
    "from transformers import GraphormerForGraphClassification, TrainingArguments, Trainer\n",
    "from transformers.models.graphormer.collating_graphormer import preprocess_item, GraphormerDataCollator"
   ]
  },
  {
   "cell_type": "markdown",
   "id": "174abf16",
   "metadata": {},
   "source": [
    "## Variáveis"
   ]
  },
  {
   "cell_type": "code",
   "execution_count": 2,
   "id": "14dc344b",
   "metadata": {},
   "outputs": [],
   "source": [
    "load_dotenv()\n",
    "\n",
    "token = os.getenv(\"TOKEN\")"
   ]
  },
  {
   "cell_type": "markdown",
   "id": "c788b427",
   "metadata": {},
   "source": [
    "## Dataset"
   ]
  },
  {
   "cell_type": "code",
   "execution_count": 3,
   "id": "e1225b19",
   "metadata": {},
   "outputs": [],
   "source": [
    "dataset = load_dataset(\"graphs-datasets/MUTAG\", cache_dir=\"../datasets\")\n",
    "dataset = dataset.shuffle(seed=0)"
   ]
  },
  {
   "cell_type": "code",
   "execution_count": 4,
   "id": "2d659b00",
   "metadata": {},
   "outputs": [
    {
     "data": {
      "text/plain": [
       "{'edge_index': List(List(Value('int64'))),\n",
       " 'node_feat': List(List(Value('float64'))),\n",
       " 'y': List(Value('int64')),\n",
       " 'num_nodes': Value('int64')}"
      ]
     },
     "execution_count": 4,
     "metadata": {},
     "output_type": "execute_result"
    }
   ],
   "source": [
    "dataset['train'] = dataset['train'].remove_columns(['edge_attr'])\n",
    "dataset = dataset['train'].train_test_split(test_size=0.2)\n",
    "test_valid = dataset['test'].train_test_split(test_size=0.5)\n",
    "\n",
    "dataset = DatasetDict({\n",
    "    'train': dataset['train'],\n",
    "    'test': test_valid['train'],\n",
    "    'validation': test_valid['test']})\n",
    "\n",
    "dataset[\"train\"].features"
   ]
  },
  {
   "cell_type": "markdown",
   "id": "def544ba",
   "metadata": {},
   "source": [
    "## Métricas"
   ]
  },
  {
   "cell_type": "code",
   "execution_count": 5,
   "id": "1a1c99bd",
   "metadata": {},
   "outputs": [],
   "source": [
    "metric = evaluate.load(\"accuracy\")"
   ]
  },
  {
   "cell_type": "code",
   "execution_count": 6,
   "id": "1edfdec5",
   "metadata": {},
   "outputs": [
    {
     "data": {
      "image/png": "[encoded data removed]",
      "text/plain": [
       "<Figure size 640x480 with 1 Axes>"
      ]
     },
     "metadata": {},
     "output_type": "display_data"
    }
   ],
   "source": [
    "graph = dataset[\"train\"][0]\n",
    "\n",
    "edges = graph[\"edge_index\"]\n",
    "num_edges = len(edges[0])\n",
    "num_nodes = graph[\"num_nodes\"]\n",
    "\n",
    "G = nx.Graph()\n",
    "G.add_nodes_from(range(num_nodes))\n",
    "G.add_edges_from([(edges[0][i], edges[1][i]) for i in range(num_edges)])\n",
    "\n",
    "nx.draw(G)"
   ]
  },
  {
   "cell_type": "code",
   "execution_count": 7,
   "id": "d315d355",
   "metadata": {},
   "outputs": [
    {
     "data": {
      "text/plain": [
       "'Label:[1]'"
      ]
     },
     "execution_count": 7,
     "metadata": {},
     "output_type": "execute_result"
    }
   ],
   "source": [
    "\"Label:\" + str(graph['y'])"
   ]
  },
  {
   "cell_type": "markdown",
   "id": "031fcb70",
   "metadata": {},
   "source": [
    "## Processamento de Dados"
   ]
  },
  {
   "cell_type": "code",
   "execution_count": 8,
   "id": "91ac5f22",
   "metadata": {},
   "outputs": [
    {
     "name": "stderr",
     "output_type": "stream",
     "text": [
      "Map: 100%|██████████| 150/150 [00:00<00:00, 387.00 examples/s]\n",
      "Map: 100%|██████████| 19/19 [00:00<00:00, 306.44 examples/s]\n",
      "Map: 100%|██████████| 19/19 [00:00<00:00, 292.30 examples/s]\n"
     ]
    }
   ],
   "source": [
    "dataset_processed = dataset.map(preprocess_item, batched=False)\n",
    "train_ds = dataset_processed['train']\n",
    "val_ds = dataset_processed['validation']"
   ]
  },
  {
   "cell_type": "code",
   "execution_count": 9,
   "id": "382e1147",
   "metadata": {},
   "outputs": [
    {
     "data": {
      "text/plain": [
       "dict_keys(['edge_index', 'node_feat', 'y', 'num_nodes', 'input_nodes', 'attn_bias', 'attn_edge_type', 'spatial_pos', 'in_degree', 'out_degree', 'input_edges', 'labels'])"
      ]
     },
     "execution_count": 9,
     "metadata": {},
     "output_type": "execute_result"
    }
   ],
   "source": [
    "train_ds[0].keys()"
   ]
  },
  {
   "cell_type": "markdown",
   "id": "058c3db4",
   "metadata": {},
   "source": [
    "## Modelo"
   ]
  },
  {
   "cell_type": "code",
   "execution_count": 10,
   "id": "29dc7a83",
   "metadata": {},
   "outputs": [
    {
     "name": "stdout",
     "output_type": "stream",
     "text": [
      "Usando dispositivo: cpu\n"
     ]
    }
   ],
   "source": [
    "device = torch.device(\"cuda\" if torch.cuda.is_available() else \"cpu\")\n",
    "print(f\"Usando dispositivo: {device}\")"
   ]
  },
  {
   "cell_type": "code",
   "execution_count": 11,
   "id": "58000338",
   "metadata": {},
   "outputs": [
    {
     "name": "stderr",
     "output_type": "stream",
     "text": [
      "d:\\Visual Code\\Graphormer\\venv\\Lib\\site-packages\\huggingface_hub\\file_download.py:945: FutureWarning: `resume_download` is deprecated and will be removed in version 1.0.0. Downloads always resume when possible. If you want to force a new download, use `force_download=True`.\n",
      "  warnings.warn(\n",
      "Some weights of GraphormerForGraphClassification were not initialized from the model checkpoint at clefourrier/pcqm4mv2_graphormer_base and are newly initialized because the shapes did not match:\n",
      "- classifier.classifier.weight: found shape torch.Size([1, 768]) in the checkpoint and torch.Size([2, 768]) in the model instantiated\n",
      "You should probably TRAIN this model on a down-stream task to be able to use it for predictions and inference.\n"
     ]
    }
   ],
   "source": [
    "model = GraphormerForGraphClassification.from_pretrained(\n",
    "    \"clefourrier/pcqm4mv2_graphormer_base\",\n",
    "    token=token,\n",
    "    num_classes=2,\n",
    "    ignore_mismatched_sizes=True\n",
    ").to(device)"
   ]
  },
  {
   "cell_type": "markdown",
   "id": "2a78b6de",
   "metadata": {},
   "source": [
    "## Argumentos"
   ]
  },
  {
   "cell_type": "code",
   "execution_count": 15,
   "id": "a8ff20bd",
   "metadata": {},
   "outputs": [],
   "source": [
    "training_args = TrainingArguments(\n",
    "    output_dir=\"../results\",\n",
    "    logging_dir=\"graph-classification\",\n",
    "    per_device_train_batch_size=4,\n",
    "    per_device_eval_batch_size=4,\n",
    "    auto_find_batch_size=False,\n",
    "    gradient_accumulation_steps=10,\n",
    "    dataloader_num_workers=4, \n",
    "    num_train_epochs=20,\n",
    "    evaluation_strategy=\"epoch\",\n",
    "    logging_strategy=\"epoch\"\n",
    ")"
   ]
  },
  {
   "cell_type": "markdown",
   "id": "64261dc9",
   "metadata": {},
   "source": [
    "## Treino"
   ]
  },
  {
   "cell_type": "code",
   "execution_count": 16,
   "id": "818327bf",
   "metadata": {},
   "outputs": [],
   "source": [
    "trainer = Trainer(\n",
    "    model=model,\n",
    "    args=training_args,\n",
    "    train_dataset=train_ds,\n",
    "    eval_dataset=val_ds,\n",
    "    data_collator=GraphormerDataCollator()\n",
    ")"
   ]
  },
  {
   "cell_type": "code",
   "execution_count": 17,
   "id": "d9774909",
   "metadata": {},
   "outputs": [
    {
     "name": "stderr",
     "output_type": "stream",
     "text": [
      "  0%|          | 0/60 [00:00<?, ?it/s]d:\\Visual Code\\Graphormer\\venv\\Lib\\site-packages\\torch\\utils\\data\\dataloader.py:666: UserWarning: 'pin_memory' argument is set as true but no accelerator is found, then device pinned memory won't be used.\n",
      "  warnings.warn(warn_msg)\n",
      "Could not estimate the number of tokens of the input, floating-point operations will not be computed\n",
      "  5%|▌         | 3/60 [00:10<02:22,  2.51s/it]"
     ]
    },
    {
     "name": "stdout",
     "output_type": "stream",
     "text": [
      "{'loss': 0.8275, 'grad_norm': 5.508421421051025, 'learning_rate': 4.75e-05, 'epoch': 0.79}\n"
     ]
    },
    {
     "name": "stderr",
     "output_type": "stream",
     "text": [
      "                                              \n",
      "  5%|▌         | 3/60 [00:14<02:22,  2.51s/it]"
     ]
    },
    {
     "name": "stdout",
     "output_type": "stream",
     "text": [
      "{'eval_loss': 0.5532358288764954, 'eval_runtime': 3.886, 'eval_samples_per_second': 4.889, 'eval_steps_per_second': 1.287, 'epoch': 0.79}\n"
     ]
    },
    {
     "name": "stderr",
     "output_type": "stream",
     "text": [
      " 12%|█▏        | 7/60 [00:24<02:25,  2.75s/it]"
     ]
    },
    {
     "name": "stdout",
     "output_type": "stream",
     "text": [
      "{'loss': 0.4623, 'grad_norm': 3.851961851119995, 'learning_rate': 4.4166666666666665e-05, 'epoch': 1.84}\n"
     ]
    },
    {
     "name": "stderr",
     "output_type": "stream",
     "text": [
      "                                              \n",
      " 12%|█▏        | 7/60 [00:28<02:25,  2.75s/it]"
     ]
    },
    {
     "name": "stdout",
     "output_type": "stream",
     "text": [
      "{'eval_loss': 0.45702749490737915, 'eval_runtime': 3.8846, 'eval_samples_per_second': 4.891, 'eval_steps_per_second': 1.287, 'epoch': 1.84}\n"
     ]
    },
    {
     "name": "stderr",
     "output_type": "stream",
     "text": [
      " 18%|█▊        | 11/60 [00:39<02:17,  2.80s/it]"
     ]
    },
    {
     "name": "stdout",
     "output_type": "stream",
     "text": [
      "{'loss': 0.3815, 'grad_norm': 5.5877299308776855, 'learning_rate': 4.0833333333333334e-05, 'epoch': 2.89}\n"
     ]
    },
    {
     "name": "stderr",
     "output_type": "stream",
     "text": [
      "                                               \n",
      " 18%|█▊        | 11/60 [00:43<02:17,  2.80s/it]"
     ]
    },
    {
     "name": "stdout",
     "output_type": "stream",
     "text": [
      "{'eval_loss': 0.4129144847393036, 'eval_runtime': 3.8223, 'eval_samples_per_second': 4.971, 'eval_steps_per_second': 1.308, 'epoch': 2.89}\n"
     ]
    },
    {
     "name": "stderr",
     "output_type": "stream",
     "text": [
      " 25%|██▌       | 15/60 [00:53<02:06,  2.80s/it]"
     ]
    },
    {
     "name": "stdout",
     "output_type": "stream",
     "text": [
      "{'loss': 0.3296, 'grad_norm': 6.040299415588379, 'learning_rate': 3.7500000000000003e-05, 'epoch': 3.95}\n"
     ]
    },
    {
     "name": "stderr",
     "output_type": "stream",
     "text": [
      "                                               \n",
      " 25%|██▌       | 15/60 [00:57<02:06,  2.80s/it]"
     ]
    },
    {
     "name": "stdout",
     "output_type": "stream",
     "text": [
      "{'eval_loss': 0.4666951298713684, 'eval_runtime': 3.8357, 'eval_samples_per_second': 4.953, 'eval_steps_per_second': 1.304, 'epoch': 3.95}\n"
     ]
    },
    {
     "name": "stderr",
     "output_type": "stream",
     "text": [
      " 32%|███▏      | 19/60 [01:08<02:01,  2.97s/it]"
     ]
    },
    {
     "name": "stdout",
     "output_type": "stream",
     "text": [
      "{'loss': 0.3215, 'grad_norm': 16.367326736450195, 'learning_rate': 3.4166666666666666e-05, 'epoch': 5.0}\n"
     ]
    },
    {
     "name": "stderr",
     "output_type": "stream",
     "text": [
      "                                               \n",
      " 32%|███▏      | 19/60 [01:11<02:01,  2.97s/it]"
     ]
    },
    {
     "name": "stdout",
     "output_type": "stream",
     "text": [
      "{'eval_loss': 0.3913438320159912, 'eval_runtime': 3.8457, 'eval_samples_per_second': 4.941, 'eval_steps_per_second': 1.3, 'epoch': 5.0}\n"
     ]
    },
    {
     "name": "stderr",
     "output_type": "stream",
     "text": [
      " 37%|███▋      | 22/60 [01:22<02:01,  3.21s/it]"
     ]
    },
    {
     "name": "stdout",
     "output_type": "stream",
     "text": [
      "{'loss': 0.439, 'grad_norm': 2.977104663848877, 'learning_rate': 3.1666666666666666e-05, 'epoch': 5.79}\n"
     ]
    },
    {
     "name": "stderr",
     "output_type": "stream",
     "text": [
      "                                               \n",
      " 37%|███▋      | 22/60 [01:26<02:01,  3.21s/it]"
     ]
    },
    {
     "name": "stdout",
     "output_type": "stream",
     "text": [
      "{'eval_loss': 0.39899131655693054, 'eval_runtime': 3.8723, 'eval_samples_per_second': 4.907, 'eval_steps_per_second': 1.291, 'epoch': 5.79}\n"
     ]
    },
    {
     "name": "stderr",
     "output_type": "stream",
     "text": [
      " 43%|████▎     | 26/60 [01:36<01:38,  2.91s/it]"
     ]
    },
    {
     "name": "stdout",
     "output_type": "stream",
     "text": [
      "{'loss': 0.2902, 'grad_norm': 6.610710620880127, 'learning_rate': 2.8333333333333335e-05, 'epoch': 6.84}\n"
     ]
    },
    {
     "name": "stderr",
     "output_type": "stream",
     "text": [
      "                                               \n",
      " 43%|████▎     | 26/60 [01:40<01:38,  2.91s/it]"
     ]
    },
    {
     "name": "stdout",
     "output_type": "stream",
     "text": [
      "{'eval_loss': 0.39384618401527405, 'eval_runtime': 3.8364, 'eval_samples_per_second': 4.953, 'eval_steps_per_second': 1.303, 'epoch': 6.84}\n"
     ]
    },
    {
     "name": "stderr",
     "output_type": "stream",
     "text": [
      " 50%|█████     | 30/60 [01:50<01:25,  2.85s/it]"
     ]
    },
    {
     "name": "stdout",
     "output_type": "stream",
     "text": [
      "{'loss': 0.2741, 'grad_norm': 4.740243911743164, 'learning_rate': 2.5e-05, 'epoch': 7.89}\n"
     ]
    },
    {
     "name": "stderr",
     "output_type": "stream",
     "text": [
      "                                               \n",
      " 50%|█████     | 30/60 [01:54<01:25,  2.85s/it]"
     ]
    },
    {
     "name": "stdout",
     "output_type": "stream",
     "text": [
      "{'eval_loss': 0.39412057399749756, 'eval_runtime': 3.8302, 'eval_samples_per_second': 4.961, 'eval_steps_per_second': 1.305, 'epoch': 7.89}\n"
     ]
    },
    {
     "name": "stderr",
     "output_type": "stream",
     "text": [
      " 57%|█████▋    | 34/60 [02:05<01:13,  2.82s/it]"
     ]
    },
    {
     "name": "stdout",
     "output_type": "stream",
     "text": [
      "{'loss': 0.263, 'grad_norm': 2.523380994796753, 'learning_rate': 2.1666666666666667e-05, 'epoch': 8.95}\n"
     ]
    },
    {
     "name": "stderr",
     "output_type": "stream",
     "text": [
      "                                               \n",
      " 57%|█████▋    | 34/60 [02:09<01:13,  2.82s/it]"
     ]
    },
    {
     "name": "stdout",
     "output_type": "stream",
     "text": [
      "{'eval_loss': 0.417032390832901, 'eval_runtime': 3.8502, 'eval_samples_per_second': 4.935, 'eval_steps_per_second': 1.299, 'epoch': 8.95}\n"
     ]
    },
    {
     "name": "stderr",
     "output_type": "stream",
     "text": [
      " 63%|██████▎   | 38/60 [02:19<01:06,  3.01s/it]"
     ]
    },
    {
     "name": "stdout",
     "output_type": "stream",
     "text": [
      "{'loss': 0.2395, 'grad_norm': 4.064130783081055, 'learning_rate': 1.8333333333333333e-05, 'epoch': 10.0}\n"
     ]
    },
    {
     "name": "stderr",
     "output_type": "stream",
     "text": [
      "                                               \n",
      " 63%|██████▎   | 38/60 [02:23<01:06,  3.01s/it]"
     ]
    },
    {
     "name": "stdout",
     "output_type": "stream",
     "text": [
      "{'eval_loss': 0.4472508132457733, 'eval_runtime': 3.9078, 'eval_samples_per_second': 4.862, 'eval_steps_per_second': 1.279, 'epoch': 10.0}\n"
     ]
    },
    {
     "name": "stderr",
     "output_type": "stream",
     "text": [
      " 68%|██████▊   | 41/60 [02:34<01:01,  3.23s/it]"
     ]
    },
    {
     "name": "stdout",
     "output_type": "stream",
     "text": [
      "{'loss': 0.3469, 'grad_norm': 3.927779197692871, 'learning_rate': 1.5833333333333333e-05, 'epoch': 10.79}\n"
     ]
    },
    {
     "name": "stderr",
     "output_type": "stream",
     "text": [
      "                                               \n",
      " 68%|██████▊   | 41/60 [02:38<01:01,  3.23s/it]"
     ]
    },
    {
     "name": "stdout",
     "output_type": "stream",
     "text": [
      "{'eval_loss': 0.4582662582397461, 'eval_runtime': 3.9703, 'eval_samples_per_second': 4.786, 'eval_steps_per_second': 1.259, 'epoch': 10.79}\n"
     ]
    },
    {
     "name": "stderr",
     "output_type": "stream",
     "text": [
      " 75%|███████▌  | 45/60 [02:48<00:44,  2.96s/it]"
     ]
    },
    {
     "name": "stdout",
     "output_type": "stream",
     "text": [
      "{'loss': 0.2531, 'grad_norm': 5.336689472198486, 'learning_rate': 1.25e-05, 'epoch': 11.84}\n"
     ]
    },
    {
     "name": "stderr",
     "output_type": "stream",
     "text": [
      "                                               \n",
      " 75%|███████▌  | 45/60 [02:52<00:44,  2.96s/it]"
     ]
    },
    {
     "name": "stdout",
     "output_type": "stream",
     "text": [
      "{'eval_loss': 0.47249531745910645, 'eval_runtime': 3.8321, 'eval_samples_per_second': 4.958, 'eval_steps_per_second': 1.305, 'epoch': 11.84}\n"
     ]
    },
    {
     "name": "stderr",
     "output_type": "stream",
     "text": [
      " 82%|████████▏ | 49/60 [03:02<00:31,  2.85s/it]"
     ]
    },
    {
     "name": "stdout",
     "output_type": "stream",
     "text": [
      "{'loss': 0.2312, 'grad_norm': 3.5828440189361572, 'learning_rate': 9.166666666666666e-06, 'epoch': 12.89}\n"
     ]
    },
    {
     "name": "stderr",
     "output_type": "stream",
     "text": [
      "                                               \n",
      " 82%|████████▏ | 49/60 [03:06<00:31,  2.85s/it]"
     ]
    },
    {
     "name": "stdout",
     "output_type": "stream",
     "text": [
      "{'eval_loss': 0.46359243988990784, 'eval_runtime': 3.8416, 'eval_samples_per_second': 4.946, 'eval_steps_per_second': 1.302, 'epoch': 12.89}\n"
     ]
    },
    {
     "name": "stderr",
     "output_type": "stream",
     "text": [
      " 88%|████████▊ | 53/60 [03:17<00:19,  2.82s/it]"
     ]
    },
    {
     "name": "stdout",
     "output_type": "stream",
     "text": [
      "{'loss': 0.254, 'grad_norm': 3.489457845687866, 'learning_rate': 5.833333333333334e-06, 'epoch': 13.95}\n"
     ]
    },
    {
     "name": "stderr",
     "output_type": "stream",
     "text": [
      "                                               \n",
      " 88%|████████▊ | 53/60 [03:21<00:19,  2.82s/it]"
     ]
    },
    {
     "name": "stdout",
     "output_type": "stream",
     "text": [
      "{'eval_loss': 0.4519664943218231, 'eval_runtime': 3.8758, 'eval_samples_per_second': 4.902, 'eval_steps_per_second': 1.29, 'epoch': 13.95}\n"
     ]
    },
    {
     "name": "stderr",
     "output_type": "stream",
     "text": [
      " 95%|█████████▌| 57/60 [03:31<00:09,  3.01s/it]"
     ]
    },
    {
     "name": "stdout",
     "output_type": "stream",
     "text": [
      "{'loss': 0.2126, 'grad_norm': 4.356889247894287, 'learning_rate': 2.5e-06, 'epoch': 15.0}\n"
     ]
    },
    {
     "name": "stderr",
     "output_type": "stream",
     "text": [
      "                                               \n",
      " 95%|█████████▌| 57/60 [03:35<00:09,  3.01s/it]"
     ]
    },
    {
     "name": "stdout",
     "output_type": "stream",
     "text": [
      "{'eval_loss': 0.4528810977935791, 'eval_runtime': 3.856, 'eval_samples_per_second': 4.927, 'eval_steps_per_second': 1.297, 'epoch': 15.0}\n"
     ]
    },
    {
     "name": "stderr",
     "output_type": "stream",
     "text": [
      "100%|██████████| 60/60 [03:44<00:00,  3.20s/it]"
     ]
    },
    {
     "name": "stdout",
     "output_type": "stream",
     "text": [
      "{'loss': 0.299, 'grad_norm': 16.189661026000977, 'learning_rate': 0.0, 'epoch': 15.79}\n"
     ]
    },
    {
     "name": "stderr",
     "output_type": "stream",
     "text": [
      "                                               \n",
      "100%|██████████| 60/60 [03:48<00:00,  3.80s/it]"
     ]
    },
    {
     "name": "stdout",
     "output_type": "stream",
     "text": [
      "{'eval_loss': 0.45213523507118225, 'eval_runtime': 3.8271, 'eval_samples_per_second': 4.965, 'eval_steps_per_second': 1.306, 'epoch': 15.79}\n",
      "{'train_runtime': 228.2778, 'train_samples_per_second': 13.142, 'train_steps_per_second': 0.263, 'train_loss': 0.3297990620136261, 'epoch': 15.79}\n"
     ]
    },
    {
     "name": "stderr",
     "output_type": "stream",
     "text": [
      "\n"
     ]
    }
   ],
   "source": [
    "train_results = trainer.train()"
   ]
  },
  {
   "cell_type": "markdown",
   "id": "c7f971b4",
   "metadata": {},
   "source": [
    "## Save"
   ]
  },
  {
   "cell_type": "code",
   "execution_count": 18,
   "id": "fe17c54f",
   "metadata": {},
   "outputs": [
    {
     "name": "stdout",
     "output_type": "stream",
     "text": [
      "***** train metrics *****\n",
      "  epoch                    =    15.7895\n",
      "  total_flos               =        0GF\n",
      "  train_loss               =     0.3298\n",
      "  train_runtime            = 0:03:48.27\n",
      "  train_samples_per_second =     13.142\n",
      "  train_steps_per_second   =      0.263\n"
     ]
    }
   ],
   "source": [
    "trainer.save_model(output_dir=\"../model\")\n",
    "trainer.log_metrics(\"train\", train_results.metrics)\n",
    "trainer.save_metrics(\"train\", train_results.metrics)\n",
    "trainer.save_state()"
   ]
  }
 ],
 "metadata": {
  "kernelspec": {
   "display_name": "venv (3.12.4)",
   "language": "python",
   "name": "python3"
  },
  "language_info": {
   "codemirror_mode": {
    "name": "ipython",
    "version": 3
   },
   "file_extension": ".py",
   "mimetype": "text/x-python",
   "name": "python",
   "nbconvert_exporter": "python",
   "pygments_lexer": "ipython3",
   "version": "3.12.4"
  }
 },
 "nbformat": 4,
 "nbformat_minor": 5
}
