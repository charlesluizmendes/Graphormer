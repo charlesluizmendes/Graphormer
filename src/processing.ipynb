{
 "cells": [
  {
   "cell_type": "markdown",
   "id": "f02b69e7",
   "metadata": {},
   "source": [
    "## Dependências"
   ]
  },
  {
   "cell_type": "code",
   "execution_count": 93,
   "id": "4344b4b6",
   "metadata": {},
   "outputs": [],
   "source": [
    "import os\n",
    "import evaluate\n",
    "import torch\n",
    "import networkx as nx\n",
    "import matplotlib.pyplot as plt\n",
    "from dotenv import load_dotenv\n",
    "from datasets import load_dataset, DatasetDict\n",
    "from transformers import GraphormerForGraphClassification, TrainingArguments, Trainer\n",
    "from transformers.models.graphormer.collating_graphormer import preprocess_item, GraphormerDataCollator"
   ]
  },
  {
   "cell_type": "markdown",
   "id": "174abf16",
   "metadata": {},
   "source": [
    "## Variáveis"
   ]
  },
  {
   "cell_type": "code",
   "execution_count": 94,
   "id": "14dc344b",
   "metadata": {},
   "outputs": [],
   "source": [
    "load_dotenv()\n",
    "\n",
    "token = os.getenv(\"TOKEN\")"
   ]
  },
  {
   "cell_type": "markdown",
   "id": "c788b427",
   "metadata": {},
   "source": [
    "## Dataset"
   ]
  },
  {
   "cell_type": "code",
   "execution_count": 95,
   "id": "e1225b19",
   "metadata": {},
   "outputs": [],
   "source": [
    "dataset = load_dataset(\"graphs-datasets/MUTAG\", cache_dir=\"../datasets\")\n",
    "dataset = dataset.shuffle(seed=0)"
   ]
  },
  {
   "cell_type": "code",
   "execution_count": 96,
   "id": "2d659b00",
   "metadata": {},
   "outputs": [
    {
     "data": {
      "text/plain": [
       "{'edge_index': List(List(Value('int64'))),\n",
       " 'node_feat': List(List(Value('float64'))),\n",
       " 'y': List(Value('int64')),\n",
       " 'num_nodes': Value('int64')}"
      ]
     },
     "execution_count": 96,
     "metadata": {},
     "output_type": "execute_result"
    }
   ],
   "source": [
    "dataset['train'] = dataset['train'].remove_columns(['edge_attr'])\n",
    "dataset = dataset['train'].train_test_split(test_size=0.2)\n",
    "test_valid = dataset['test'].train_test_split(test_size=0.5)\n",
    "\n",
    "dataset = DatasetDict({\n",
    "    'train': dataset['train'],\n",
    "    'test': test_valid['train'],\n",
    "    'validation': test_valid['test']})\n",
    "\n",
    "dataset[\"train\"].features"
   ]
  },
  {
   "cell_type": "markdown",
   "id": "def544ba",
   "metadata": {},
   "source": [
    "## Métricas"
   ]
  },
  {
   "cell_type": "code",
   "execution_count": 97,
   "id": "1a1c99bd",
   "metadata": {},
   "outputs": [],
   "source": [
    "metric = evaluate.load(\"accuracy\")"
   ]
  },
  {
   "cell_type": "code",
   "execution_count": 98,
   "id": "1edfdec5",
   "metadata": {},
   "outputs": [
    {
     "data": {
      "image/png": "[encoded data removed]",
      "text/plain": [
       "<Figure size 640x480 with 1 Axes>"
      ]
     },
     "metadata": {},
     "output_type": "display_data"
    }
   ],
   "source": [
    "graph = dataset[\"train\"][0]\n",
    "\n",
    "edges = graph[\"edge_index\"]\n",
    "num_edges = len(edges[0])\n",
    "num_nodes = graph[\"num_nodes\"]\n",
    "\n",
    "G = nx.Graph()\n",
    "G.add_nodes_from(range(num_nodes))\n",
    "G.add_edges_from([(edges[0][i], edges[1][i]) for i in range(num_edges)])\n",
    "\n",
    "nx.draw(G)"
   ]
  },
  {
   "cell_type": "code",
   "execution_count": 99,
   "id": "d315d355",
   "metadata": {},
   "outputs": [
    {
     "data": {
      "text/plain": [
       "'Label:[0]'"
      ]
     },
     "execution_count": 99,
     "metadata": {},
     "output_type": "execute_result"
    }
   ],
   "source": [
    "\"Label:\" + str(graph['y'])"
   ]
  },
  {
   "cell_type": "markdown",
   "id": "031fcb70",
   "metadata": {},
   "source": [
    "## Processamento de Dados"
   ]
  },
  {
   "cell_type": "code",
   "execution_count": 100,
   "id": "91ac5f22",
   "metadata": {},
   "outputs": [],
   "source": [
    "dataset_processed = dataset.map(preprocess_item, batched=False)\n",
    "train_ds = dataset_processed['train']\n",
    "val_ds = dataset_processed['validation']"
   ]
  },
  {
   "cell_type": "code",
   "execution_count": 101,
   "id": "382e1147",
   "metadata": {},
   "outputs": [
    {
     "data": {
      "text/plain": [
       "dict_keys(['edge_index', 'node_feat', 'y', 'num_nodes', 'input_nodes', 'attn_bias', 'attn_edge_type', 'spatial_pos', 'in_degree', 'out_degree', 'input_edges', 'labels'])"
      ]
     },
     "execution_count": 101,
     "metadata": {},
     "output_type": "execute_result"
    }
   ],
   "source": [
    "train_ds[0].keys()"
   ]
  },
  {
   "cell_type": "markdown",
   "id": "058c3db4",
   "metadata": {},
   "source": [
    "## Modelo"
   ]
  },
  {
   "cell_type": "code",
   "execution_count": 102,
   "id": "29dc7a83",
   "metadata": {},
   "outputs": [
    {
     "name": "stdout",
     "output_type": "stream",
     "text": [
      "Usando dispositivo: cuda\n"
     ]
    }
   ],
   "source": [
    "device = torch.device(\"cuda\" if torch.cuda.is_available() else \"cpu\")\n",
    "print(f\"Usando dispositivo: {device}\")"
   ]
  },
  {
   "cell_type": "code",
   "execution_count": 103,
   "id": "58000338",
   "metadata": {},
   "outputs": [
    {
     "name": "stderr",
     "output_type": "stream",
     "text": [
      "Some weights of GraphormerForGraphClassification were not initialized from the model checkpoint at clefourrier/pcqm4mv2_graphormer_base and are newly initialized because the shapes did not match:\n",
      "- classifier.classifier.weight: found shape torch.Size([1, 768]) in the checkpoint and torch.Size([2, 768]) in the model instantiated\n",
      "You should probably TRAIN this model on a down-stream task to be able to use it for predictions and inference.\n"
     ]
    }
   ],
   "source": [
    "model = GraphormerForGraphClassification.from_pretrained(\n",
    "    \"clefourrier/pcqm4mv2_graphormer_base\",\n",
    "    token=token,\n",
    "    num_classes=2,\n",
    "    ignore_mismatched_sizes=True\n",
    ").to(device)"
   ]
  },
  {
   "cell_type": "markdown",
   "id": "2a78b6de",
   "metadata": {},
   "source": [
    "## Argumentos"
   ]
  },
  {
   "cell_type": "code",
   "execution_count": null,
   "id": "a8ff20bd",
   "metadata": {},
   "outputs": [],
   "source": [
    "training_args = TrainingArguments(\n",
    "    output_dir=\"../results\",\n",
    "    logging_dir=\"graph-classification\",\n",
    "    per_device_train_batch_size=4,\n",
    "    per_device_eval_batch_size=4,\n",
    "    auto_find_batch_size=False,\n",
    "    gradient_accumulation_steps=10,\n",
    "    dataloader_num_workers=4, \n",
    "    num_train_epochs=20,\n",
    "    evaluation_strategy=\"epoch\",\n",
    "    logging_strategy=\"epoch\",\n",
    "    fp16=True, # Usar precisão mista para economizar memória\n",
    "    dataloader_pin_memory=True # Acelerar transferência CPU-GPU\n",
    ")"
   ]
  },
  {
   "cell_type": "markdown",
   "id": "64261dc9",
   "metadata": {},
   "source": [
    "## Treino"
   ]
  },
  {
   "cell_type": "code",
   "execution_count": 105,
   "id": "818327bf",
   "metadata": {},
   "outputs": [],
   "source": [
    "trainer = Trainer(\n",
    "    model=model,\n",
    "    args=training_args,\n",
    "    train_dataset=train_ds,\n",
    "    eval_dataset=val_ds,\n",
    "    data_collator=GraphormerDataCollator()\n",
    ")"
   ]
  },
  {
   "cell_type": "code",
   "execution_count": 108,
   "id": "d9774909",
   "metadata": {},
   "outputs": [
    {
     "name": "stderr",
     "output_type": "stream",
     "text": [
      "  5%|▌         | 3/60 [00:05<01:19,  1.39s/it]\n",
      "  5%|▌         | 3/60 [00:06<01:19,  1.39s/it]"
     ]
    },
    {
     "name": "stdout",
     "output_type": "stream",
     "text": [
      "{'loss': 0.3017, 'grad_norm': 5.1346049308776855, 'learning_rate': 4.75e-05, 'epoch': 0.79}\n"
     ]
    },
    {
     "name": "stderr",
     "output_type": "stream",
     "text": [
      "\n",
      "\u001b[A\n",
      "\u001b[A\n",
      "\n",
      "\u001b[A\u001b[A                                       \n",
      "                                              \n",
      "  5%|▌         | 3/60 [00:10<01:19,  1.39s/it]\n",
      "\u001b[A"
     ]
    },
    {
     "name": "stdout",
     "output_type": "stream",
     "text": [
      "{'eval_loss': 0.1496928483247757, 'eval_runtime': 4.1566, 'eval_samples_per_second': 4.571, 'eval_steps_per_second': 1.203, 'epoch': 0.79}\n"
     ]
    },
    {
     "name": "stderr",
     "output_type": "stream",
     "text": [
      " 12%|█▏        | 7/60 [00:15<01:28,  1.66s/it]\n",
      " 12%|█▏        | 7/60 [00:16<01:28,  1.66s/it]"
     ]
    },
    {
     "name": "stdout",
     "output_type": "stream",
     "text": [
      "{'loss': 0.2557, 'grad_norm': 11.216084480285645, 'learning_rate': 4.4166666666666665e-05, 'epoch': 1.84}\n"
     ]
    },
    {
     "name": "stderr",
     "output_type": "stream",
     "text": [
      "\n",
      "\u001b[A\n",
      "\u001b[A\n",
      "\n",
      "\u001b[A\u001b[A                                       \n",
      "                                              \n",
      " 12%|█▏        | 7/60 [00:20<01:28,  1.66s/it]\n",
      "\u001b[A"
     ]
    },
    {
     "name": "stdout",
     "output_type": "stream",
     "text": [
      "{'eval_loss': 0.14350785315036774, 'eval_runtime': 3.9541, 'eval_samples_per_second': 4.805, 'eval_steps_per_second': 1.265, 'epoch': 1.84}\n"
     ]
    },
    {
     "name": "stderr",
     "output_type": "stream",
     "text": [
      " 18%|█▊        | 11/60 [00:26<01:23,  1.70s/it]\n",
      " 18%|█▊        | 11/60 [00:27<01:23,  1.70s/it]"
     ]
    },
    {
     "name": "stdout",
     "output_type": "stream",
     "text": [
      "{'loss': 0.2849, 'grad_norm': 24.305395126342773, 'learning_rate': 4.0833333333333334e-05, 'epoch': 2.89}\n"
     ]
    },
    {
     "name": "stderr",
     "output_type": "stream",
     "text": [
      "\n",
      "\u001b[A\n",
      "\u001b[A\n",
      "\n",
      "\u001b[A\u001b[A                                       \n",
      "                                               \n",
      " 18%|█▊        | 11/60 [00:31<01:23,  1.70s/it]\n",
      "\u001b[A"
     ]
    },
    {
     "name": "stdout",
     "output_type": "stream",
     "text": [
      "{'eval_loss': 0.09759010374546051, 'eval_runtime': 4.092, 'eval_samples_per_second': 4.643, 'eval_steps_per_second': 1.222, 'epoch': 2.89}\n"
     ]
    },
    {
     "name": "stderr",
     "output_type": "stream",
     "text": [
      " 25%|██▌       | 15/60 [00:37<01:17,  1.73s/it]\n",
      " 25%|██▌       | 15/60 [00:38<01:17,  1.73s/it]"
     ]
    },
    {
     "name": "stdout",
     "output_type": "stream",
     "text": [
      "{'loss': 0.1985, 'grad_norm': 3.267259359359741, 'learning_rate': 3.7500000000000003e-05, 'epoch': 3.95}\n"
     ]
    },
    {
     "name": "stderr",
     "output_type": "stream",
     "text": [
      "\n",
      "\u001b[A\n",
      "\u001b[A\n",
      "\n",
      "\u001b[A\u001b[A                                       \n",
      "                                               \n",
      " 25%|██▌       | 15/60 [00:42<01:17,  1.73s/it]\n",
      "\u001b[A"
     ]
    },
    {
     "name": "stdout",
     "output_type": "stream",
     "text": [
      "{'eval_loss': 0.1898392289876938, 'eval_runtime': 3.9931, 'eval_samples_per_second': 4.758, 'eval_steps_per_second': 1.252, 'epoch': 3.95}\n"
     ]
    },
    {
     "name": "stderr",
     "output_type": "stream",
     "text": [
      " 32%|███▏      | 19/60 [00:48<01:18,  1.91s/it]\n",
      " 32%|███▏      | 19/60 [00:48<01:18,  1.91s/it]"
     ]
    },
    {
     "name": "stdout",
     "output_type": "stream",
     "text": [
      "{'loss': 0.1874, 'grad_norm': 4.816305160522461, 'learning_rate': 3.4166666666666666e-05, 'epoch': 5.0}\n"
     ]
    },
    {
     "name": "stderr",
     "output_type": "stream",
     "text": [
      "\n",
      "\u001b[A\n",
      "\u001b[A\n",
      "\n",
      "\u001b[A\u001b[A                                       \n",
      "                                               \n",
      " 32%|███▏      | 19/60 [00:52<01:18,  1.91s/it]\n",
      "\u001b[A"
     ]
    },
    {
     "name": "stdout",
     "output_type": "stream",
     "text": [
      "{'eval_loss': 0.1165427640080452, 'eval_runtime': 3.9347, 'eval_samples_per_second': 4.829, 'eval_steps_per_second': 1.271, 'epoch': 5.0}\n"
     ]
    },
    {
     "name": "stderr",
     "output_type": "stream",
     "text": [
      " 37%|███▋      | 22/60 [00:57<01:21,  2.14s/it]\n",
      " 37%|███▋      | 22/60 [00:58<01:21,  2.14s/it]"
     ]
    },
    {
     "name": "stdout",
     "output_type": "stream",
     "text": [
      "{'loss': 0.2305, 'grad_norm': 6.126836776733398, 'learning_rate': 3.1666666666666666e-05, 'epoch': 5.79}\n"
     ]
    },
    {
     "name": "stderr",
     "output_type": "stream",
     "text": [
      "\n",
      "\u001b[A\n",
      "\u001b[A\n",
      "\n",
      "\u001b[A\u001b[A                                       \n",
      "                                               \n",
      " 37%|███▋      | 22/60 [01:02<01:21,  2.14s/it]\n",
      "\u001b[A"
     ]
    },
    {
     "name": "stdout",
     "output_type": "stream",
     "text": [
      "{'eval_loss': 0.21159839630126953, 'eval_runtime': 3.8933, 'eval_samples_per_second': 4.88, 'eval_steps_per_second': 1.284, 'epoch': 5.79}\n"
     ]
    },
    {
     "name": "stderr",
     "output_type": "stream",
     "text": [
      " 43%|████▎     | 26/60 [01:07<01:00,  1.78s/it]\n",
      " 43%|████▎     | 26/60 [01:08<01:00,  1.78s/it]"
     ]
    },
    {
     "name": "stdout",
     "output_type": "stream",
     "text": [
      "{'loss': 0.1794, 'grad_norm': 5.839956283569336, 'learning_rate': 2.8333333333333335e-05, 'epoch': 6.84}\n"
     ]
    },
    {
     "name": "stderr",
     "output_type": "stream",
     "text": [
      "\n",
      "\u001b[A\n",
      "\u001b[A\n",
      "\n",
      "\u001b[A\u001b[A                                       \n",
      "                                               \n",
      " 43%|████▎     | 26/60 [01:12<01:00,  1.78s/it]\n",
      "\u001b[A"
     ]
    },
    {
     "name": "stdout",
     "output_type": "stream",
     "text": [
      "{'eval_loss': 0.11470851302146912, 'eval_runtime': 3.8763, 'eval_samples_per_second': 4.902, 'eval_steps_per_second': 1.29, 'epoch': 6.84}\n"
     ]
    },
    {
     "name": "stderr",
     "output_type": "stream",
     "text": [
      " 50%|█████     | 30/60 [01:18<00:51,  1.70s/it]\n",
      " 50%|█████     | 30/60 [01:19<00:51,  1.70s/it]"
     ]
    },
    {
     "name": "stdout",
     "output_type": "stream",
     "text": [
      "{'loss': 0.1784, 'grad_norm': 8.16125202178955, 'learning_rate': 2.5e-05, 'epoch': 7.89}\n"
     ]
    },
    {
     "name": "stderr",
     "output_type": "stream",
     "text": [
      "\n",
      "\u001b[A\n",
      "\u001b[A\n",
      "\n",
      "\u001b[A\u001b[A                                       \n",
      "                                               \n",
      " 50%|█████     | 30/60 [01:23<00:51,  1.70s/it]\n",
      "\u001b[A"
     ]
    },
    {
     "name": "stdout",
     "output_type": "stream",
     "text": [
      "{'eval_loss': 0.06727273762226105, 'eval_runtime': 3.9145, 'eval_samples_per_second': 4.854, 'eval_steps_per_second': 1.277, 'epoch': 7.89}\n"
     ]
    },
    {
     "name": "stderr",
     "output_type": "stream",
     "text": [
      " 57%|█████▋    | 34/60 [01:28<00:43,  1.68s/it]\n",
      " 57%|█████▋    | 34/60 [01:29<00:43,  1.68s/it]"
     ]
    },
    {
     "name": "stdout",
     "output_type": "stream",
     "text": [
      "{'loss': 0.142, 'grad_norm': 2.4483351707458496, 'learning_rate': 2.1666666666666667e-05, 'epoch': 8.95}\n"
     ]
    },
    {
     "name": "stderr",
     "output_type": "stream",
     "text": [
      "\n",
      "\u001b[A\n",
      "\u001b[A\n",
      "\n",
      "\u001b[A\u001b[A                                       \n",
      "                                               \n",
      " 57%|█████▋    | 34/60 [01:33<00:43,  1.68s/it]\n",
      "\u001b[A"
     ]
    },
    {
     "name": "stdout",
     "output_type": "stream",
     "text": [
      "{'eval_loss': 0.0675857663154602, 'eval_runtime': 3.8864, 'eval_samples_per_second': 4.889, 'eval_steps_per_second': 1.287, 'epoch': 8.95}\n"
     ]
    },
    {
     "name": "stderr",
     "output_type": "stream",
     "text": [
      " 63%|██████▎   | 38/60 [01:39<00:41,  1.88s/it]\n",
      " 63%|██████▎   | 38/60 [01:39<00:41,  1.88s/it]"
     ]
    },
    {
     "name": "stdout",
     "output_type": "stream",
     "text": [
      "{'loss': 0.1685, 'grad_norm': 6.002943992614746, 'learning_rate': 1.8333333333333333e-05, 'epoch': 10.0}\n"
     ]
    },
    {
     "name": "stderr",
     "output_type": "stream",
     "text": [
      "\n",
      "\u001b[A\n",
      "\u001b[A\n",
      "\n",
      "\u001b[A\u001b[A                                       \n",
      "                                               \n",
      " 63%|██████▎   | 38/60 [01:43<00:41,  1.88s/it]\n",
      "\u001b[A"
     ]
    },
    {
     "name": "stdout",
     "output_type": "stream",
     "text": [
      "{'eval_loss': 0.08189316093921661, 'eval_runtime': 3.8963, 'eval_samples_per_second': 4.876, 'eval_steps_per_second': 1.283, 'epoch': 10.0}\n"
     ]
    },
    {
     "name": "stderr",
     "output_type": "stream",
     "text": [
      " 68%|██████▊   | 41/60 [01:48<00:39,  2.09s/it]\n",
      " 68%|██████▊   | 41/60 [01:49<00:39,  2.09s/it]"
     ]
    },
    {
     "name": "stdout",
     "output_type": "stream",
     "text": [
      "{'loss': 0.1766, 'grad_norm': 6.281411647796631, 'learning_rate': 1.5833333333333333e-05, 'epoch': 10.79}\n"
     ]
    },
    {
     "name": "stderr",
     "output_type": "stream",
     "text": [
      "\n",
      "\u001b[A\n",
      "\u001b[A\n",
      "\n",
      "\u001b[A\u001b[A                                       \n",
      "                                               \n",
      " 68%|██████▊   | 41/60 [01:53<00:39,  2.09s/it]\n",
      "\u001b[A"
     ]
    },
    {
     "name": "stdout",
     "output_type": "stream",
     "text": [
      "{'eval_loss': 0.11500131338834763, 'eval_runtime': 3.9047, 'eval_samples_per_second': 4.866, 'eval_steps_per_second': 1.281, 'epoch': 10.79}\n"
     ]
    },
    {
     "name": "stderr",
     "output_type": "stream",
     "text": [
      " 75%|███████▌  | 45/60 [01:59<00:27,  1.83s/it]\n",
      " 75%|███████▌  | 45/60 [02:00<00:27,  1.83s/it]"
     ]
    },
    {
     "name": "stdout",
     "output_type": "stream",
     "text": [
      "{'loss': 0.1297, 'grad_norm': 6.775887489318848, 'learning_rate': 1.25e-05, 'epoch': 11.84}\n"
     ]
    },
    {
     "name": "stderr",
     "output_type": "stream",
     "text": [
      "\n",
      "\u001b[A\n",
      "\u001b[A\n",
      "\n",
      "\u001b[A\u001b[A                                       \n",
      "                                               \n",
      " 75%|███████▌  | 45/60 [02:04<00:27,  1.83s/it]\n",
      "\u001b[A"
     ]
    },
    {
     "name": "stdout",
     "output_type": "stream",
     "text": [
      "{'eval_loss': 0.12411589175462723, 'eval_runtime': 3.9227, 'eval_samples_per_second': 4.844, 'eval_steps_per_second': 1.275, 'epoch': 11.84}\n"
     ]
    },
    {
     "name": "stderr",
     "output_type": "stream",
     "text": [
      " 82%|████████▏ | 49/60 [02:09<00:18,  1.72s/it]\n",
      " 82%|████████▏ | 49/60 [02:10<00:18,  1.72s/it]"
     ]
    },
    {
     "name": "stdout",
     "output_type": "stream",
     "text": [
      "{'loss': 0.1339, 'grad_norm': 6.025745868682861, 'learning_rate': 9.166666666666666e-06, 'epoch': 12.89}\n"
     ]
    },
    {
     "name": "stderr",
     "output_type": "stream",
     "text": [
      "\n",
      "\u001b[A\n",
      "\u001b[A\n",
      "\n",
      "\u001b[A\u001b[A                                       \n",
      "                                               \n",
      " 82%|████████▏ | 49/60 [02:14<00:18,  1.72s/it]\n",
      "\u001b[A"
     ]
    },
    {
     "name": "stdout",
     "output_type": "stream",
     "text": [
      "{'eval_loss': 0.16318868100643158, 'eval_runtime': 3.8949, 'eval_samples_per_second': 4.878, 'eval_steps_per_second': 1.284, 'epoch': 12.89}\n"
     ]
    },
    {
     "name": "stderr",
     "output_type": "stream",
     "text": [
      " 88%|████████▊ | 53/60 [02:20<00:12,  1.75s/it]\n",
      " 88%|████████▊ | 53/60 [02:21<00:12,  1.75s/it]"
     ]
    },
    {
     "name": "stdout",
     "output_type": "stream",
     "text": [
      "{'loss': 0.1242, 'grad_norm': 3.4871535301208496, 'learning_rate': 5.833333333333334e-06, 'epoch': 13.95}\n"
     ]
    },
    {
     "name": "stderr",
     "output_type": "stream",
     "text": [
      "\n",
      "\u001b[A\n",
      "\u001b[A\n",
      "\n",
      "\u001b[A\u001b[A                                       \n",
      "                                               \n",
      " 88%|████████▊ | 53/60 [02:25<00:12,  1.75s/it]\n",
      "\u001b[A"
     ]
    },
    {
     "name": "stdout",
     "output_type": "stream",
     "text": [
      "{'eval_loss': 0.1308620721101761, 'eval_runtime': 4.014, 'eval_samples_per_second': 4.733, 'eval_steps_per_second': 1.246, 'epoch': 13.95}\n"
     ]
    },
    {
     "name": "stderr",
     "output_type": "stream",
     "text": [
      " 95%|█████████▌| 57/60 [02:31<00:05,  1.97s/it]\n",
      " 95%|█████████▌| 57/60 [02:31<00:05,  1.97s/it]"
     ]
    },
    {
     "name": "stdout",
     "output_type": "stream",
     "text": [
      "{'loss': 0.1182, 'grad_norm': 7.057626247406006, 'learning_rate': 2.5e-06, 'epoch': 15.0}\n"
     ]
    },
    {
     "name": "stderr",
     "output_type": "stream",
     "text": [
      "\n",
      "\u001b[A\n",
      "\u001b[A\n",
      "\n",
      "\u001b[A\u001b[A                                       \n",
      "                                               \n",
      " 95%|█████████▌| 57/60 [02:35<00:05,  1.97s/it]\n",
      "\u001b[A"
     ]
    },
    {
     "name": "stdout",
     "output_type": "stream",
     "text": [
      "{'eval_loss': 0.08089587837457657, 'eval_runtime': 3.9692, 'eval_samples_per_second': 4.787, 'eval_steps_per_second': 1.26, 'epoch': 15.0}\n"
     ]
    },
    {
     "name": "stderr",
     "output_type": "stream",
     "text": [
      "100%|██████████| 60/60 [02:40<00:00,  2.16s/it]\n",
      "100%|██████████| 60/60 [02:41<00:00,  2.16s/it]"
     ]
    },
    {
     "name": "stdout",
     "output_type": "stream",
     "text": [
      "{'loss': 0.0845, 'grad_norm': 2.132795810699463, 'learning_rate': 0.0, 'epoch': 15.79}\n"
     ]
    },
    {
     "name": "stderr",
     "output_type": "stream",
     "text": [
      "\n",
      "\u001b[A\n",
      "\u001b[A\n",
      "\n",
      "\u001b[A\u001b[A                                       \n",
      "                                               \n",
      "100%|██████████| 60/60 [02:45<00:00,  2.16s/it]\n",
      "\u001b[A\n",
      "100%|██████████| 60/60 [02:45<00:00,  2.76s/it]"
     ]
    },
    {
     "name": "stdout",
     "output_type": "stream",
     "text": [
      "{'eval_loss': 0.07374992966651917, 'eval_runtime': 3.896, 'eval_samples_per_second': 4.877, 'eval_steps_per_second': 1.283, 'epoch': 15.79}\n",
      "{'train_runtime': 165.3912, 'train_samples_per_second': 18.139, 'train_steps_per_second': 0.363, 'train_loss': 0.17971153656641642, 'epoch': 15.79}\n"
     ]
    },
    {
     "name": "stderr",
     "output_type": "stream",
     "text": [
      "\n"
     ]
    }
   ],
   "source": [
    "train_results = trainer.train()"
   ]
  },
  {
   "cell_type": "markdown",
   "id": "c7f971b4",
   "metadata": {},
   "source": [
    "## Save"
   ]
  },
  {
   "cell_type": "code",
   "execution_count": 109,
   "id": "fe17c54f",
   "metadata": {},
   "outputs": [
    {
     "name": "stdout",
     "output_type": "stream",
     "text": [
      "***** train metrics *****\n",
      "  epoch                    =    15.7895\n",
      "  total_flos               =        0GF\n",
      "  train_loss               =     0.1797\n",
      "  train_runtime            = 0:02:45.39\n",
      "  train_samples_per_second =     18.139\n",
      "  train_steps_per_second   =      0.363\n"
     ]
    }
   ],
   "source": [
    "trainer.save_model(output_dir=\"../model\")\n",
    "trainer.log_metrics(\"train\", train_results.metrics)\n",
    "trainer.save_metrics(\"train\", train_results.metrics)\n",
    "trainer.save_state()"
   ]
  }
 ],
 "metadata": {
  "kernelspec": {
   "display_name": "venv (3.12.4)",
   "language": "python",
   "name": "python3"
  },
  "language_info": {
   "codemirror_mode": {
    "name": "ipython",
    "version": 3
   },
   "file_extension": ".py",
   "mimetype": "text/x-python",
   "name": "python",
   "nbconvert_exporter": "python",
   "pygments_lexer": "ipython3",
   "version": "3.12.4"
  }
 },
 "nbformat": 4,
 "nbformat_minor": 5
}
